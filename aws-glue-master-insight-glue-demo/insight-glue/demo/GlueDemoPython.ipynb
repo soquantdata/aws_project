{
 "cells": [
  {
   "cell_type": "code",
   "execution_count": 57,
   "id": "7ed741f1",
   "metadata": {},
   "outputs": [],
   "source": [
    "import pandas as pd\n",
    "from pyspark.sql import SparkSession\n",
    "from io import StringIO\n",
    "from io import BytesIO"
   ]
  },
  {
   "cell_type": "code",
   "execution_count": 58,
   "id": "b1e50849",
   "metadata": {},
   "outputs": [],
   "source": [
    "# May take awhile locally\n",
    "spark = SparkSession.builder \\\n",
    "        .appName(\"pipeline\") \\\n",
    "        .config(\"spark.jars.packages\", \"com.crealytics:spark-excel_2.11:0.12.2\") \\\n",
    "        .getOrCreate()"
   ]
  },
  {
   "cell_type": "code",
   "execution_count": 59,
   "id": "fdade382",
   "metadata": {},
   "outputs": [],
   "source": [
    "access_id = \"******\"\n",
    "access_key = \"*******\"\n",
    "region='******'\n",
    "s3_bucket = '*****'\n",
    "prefix_path = '****'"
   ]
  },
  {
   "cell_type": "code",
   "execution_count": 60,
   "id": "bff7aaf4",
   "metadata": {},
   "outputs": [],
   "source": [
    "import boto3\n",
    "import pandas as pd\n",
    "import io\n",
    "\n",
    "\n",
    "s3_resource = boto3.resource(\n",
    "    service_name='s3',\n",
    "    region_name=region,\n",
    "    aws_access_key_id=access_id,\n",
    "    aws_secret_access_key=access_key\n",
    ");\n",
    "\n",
    "\n",
    "s3_client = boto3.client(service_name='s3',\n",
    "        region_name=region,\n",
    "        aws_access_key_id=access_id,\n",
    "        aws_secret_access_key=access_key\n",
    "    )"
   ]
  },
  {
   "cell_type": "markdown",
   "id": "99569b9b",
   "metadata": {},
   "source": [
    "!pip install boto3"
   ]
  },
  {
   "cell_type": "code",
   "execution_count": 61,
   "id": "558195ef",
   "metadata": {},
   "outputs": [],
   "source": [
    "import boto3\n",
    "import pandas as pd\n",
    "from io import StringIO\n",
    "\n",
    "def read_s3_files(client, bucket, path):\n",
    "    obj = client.get_object(Bucket=s3_bucket, Key=prefix_path)\n",
    "    df = pd.read_csv(obj['Body'])\n",
    "    return df\n",
    "\n",
    "def list_s3_files(client, bucket, path):\n",
    "    \"\"\"List files in specific S3 URL\"\"\"\n",
    "    response = client.list_objects(Bucket=bucket, Prefix=path)\n",
    "    for content in response.get('Contents', []):\n",
    "        yield content.get('Key')\n",
    "    file_list = ListFiles(client)\n",
    "    files=[]\n",
    "    for file in file_list:\n",
    "        files.append(file)\n",
    "    return files\n",
    "\n",
    "def write_dataframe_to_s3(client, dataframe, bucket, filepath, outputfile_format):\n",
    "    s3_resource = client\n",
    "    if outputfile_format == 'parquet':\n",
    "        print(\"Writing {} records to S3 File: {}\".format(len(dataframe), filepath))\n",
    "        out_buffer = BytesIO()\n",
    "        # table = pa.Table.from_pandas(dataframe)\n",
    "        # pq.write_table(table, fileName)\n",
    "        dataframe.to_parquet(out_buffer, index=False)\n",
    "        print('came inside of  parquet format')\n",
    "\n",
    "    elif outputfile_format == 'csv':\n",
    "        out_buffer = StringIO()\n",
    "        dataframe.to_csv(out_buffer, sep=\"|\",  index=False)\n",
    "        print('came inside of  csv format')\n",
    "    s3_resource.Object(bucket, filepath).put(Body=out_buffer.getvalue())"
   ]
  },
  {
   "cell_type": "code",
   "execution_count": 62,
   "id": "5ae5b5de",
   "metadata": {},
   "outputs": [
    {
     "name": "stdout",
     "output_type": "stream",
     "text": [
      "['gluedemo/dimdate/calendar.csv', 'gluedemo/dimproduct/product.csv', 'gluedemo/dimstore/store.csv', 'gluedemo/factsales/sales.csv']\n",
      "gluedemo/dimdate/calendar.csv\n",
      "gluedemo/dimproduct/product.csv\n",
      "gluedemo/dimstore/store.csv\n",
      "gluedemo/factsales/sales.csv\n"
     ]
    }
   ],
   "source": [
    "files = []\n",
    "\n",
    "my_bucket = s3_resource.Bucket(s3_bucket)\n",
    "for object_summary in my_bucket.objects.filter(Prefix=\"gluedemo\"):\n",
    "    if '.csv'in object_summary.key:\n",
    "        files.append(str(object_summary.key))\n",
    "print(files)\n",
    "for file in files:\n",
    "    print(file)\n",
    "    obj = s3_client.get_object(Bucket=s3_bucket, Key=str(file))\n",
    "    if 'dimdate' in file:\n",
    "        calendar_df = pd.read_csv(obj['Body'])\n",
    "    if 'dimproduct' in file:\n",
    "        product_df = pd.read_csv(obj['Body'])\n",
    "    if 'dimstore' in file:\n",
    "        store_df = pd.read_csv(obj['Body'])\n",
    "    if 'factsales' in file:\n",
    "        sales_df = pd.read_csv(obj['Body'])"
   ]
  },
  {
   "cell_type": "code",
   "execution_count": 63,
   "id": "dfa25a14",
   "metadata": {},
   "outputs": [
    {
     "data": {
      "text/html": [
       "<div>\n",
       "<style scoped>\n",
       "    .dataframe tbody tr th:only-of-type {\n",
       "        vertical-align: middle;\n",
       "    }\n",
       "\n",
       "    .dataframe tbody tr th {\n",
       "        vertical-align: top;\n",
       "    }\n",
       "\n",
       "    .dataframe thead th {\n",
       "        text-align: right;\n",
       "    }\n",
       "</style>\n",
       "<table border=\"1\" class=\"dataframe\">\n",
       "  <thead>\n",
       "    <tr style=\"text-align: right;\">\n",
       "      <th></th>\n",
       "      <th>productid</th>\n",
       "      <th>division</th>\n",
       "      <th>gender</th>\n",
       "      <th>category</th>\n",
       "    </tr>\n",
       "  </thead>\n",
       "  <tbody>\n",
       "    <tr>\n",
       "      <th>0</th>\n",
       "      <td>567228914507</td>\n",
       "      <td>APPAREL</td>\n",
       "      <td>KIDS</td>\n",
       "      <td>CRICKET</td>\n",
       "    </tr>\n",
       "    <tr>\n",
       "      <th>1</th>\n",
       "      <td>565177969035</td>\n",
       "      <td>FOOTWEAR</td>\n",
       "      <td>MENS</td>\n",
       "      <td>COLLECTIONS</td>\n",
       "    </tr>\n",
       "  </tbody>\n",
       "</table>\n",
       "</div>"
      ],
      "text/plain": [
       "      productid  division gender     category\n",
       "0  567228914507   APPAREL   KIDS      CRICKET\n",
       "1  565177969035  FOOTWEAR   MENS  COLLECTIONS"
      ]
     },
     "execution_count": 63,
     "metadata": {},
     "output_type": "execute_result"
    }
   ],
   "source": [
    "product_df.head(2)"
   ]
  },
  {
   "cell_type": "code",
   "execution_count": 64,
   "id": "754737cf",
   "metadata": {},
   "outputs": [
    {
     "data": {
      "text/html": [
       "<div>\n",
       "<style scoped>\n",
       "    .dataframe tbody tr th:only-of-type {\n",
       "        vertical-align: middle;\n",
       "    }\n",
       "\n",
       "    .dataframe tbody tr th {\n",
       "        vertical-align: top;\n",
       "    }\n",
       "\n",
       "    .dataframe thead th {\n",
       "        text-align: right;\n",
       "    }\n",
       "</style>\n",
       "<table border=\"1\" class=\"dataframe\">\n",
       "  <thead>\n",
       "    <tr style=\"text-align: right;\">\n",
       "      <th></th>\n",
       "      <th>storeid</th>\n",
       "      <th>channel</th>\n",
       "      <th>country</th>\n",
       "    </tr>\n",
       "  </thead>\n",
       "  <tbody>\n",
       "    <tr>\n",
       "      <th>0</th>\n",
       "      <td>409</td>\n",
       "      <td>Digital</td>\n",
       "      <td>INDIA</td>\n",
       "    </tr>\n",
       "    <tr>\n",
       "      <th>1</th>\n",
       "      <td>410</td>\n",
       "      <td>Digital</td>\n",
       "      <td>CHINA</td>\n",
       "    </tr>\n",
       "  </tbody>\n",
       "</table>\n",
       "</div>"
      ],
      "text/plain": [
       "   storeid  channel country\n",
       "0      409  Digital   INDIA\n",
       "1      410  Digital   CHINA"
      ]
     },
     "execution_count": 64,
     "metadata": {},
     "output_type": "execute_result"
    }
   ],
   "source": [
    "store_df.head(2)"
   ]
  },
  {
   "cell_type": "code",
   "execution_count": 65,
   "id": "5d4316bd",
   "metadata": {},
   "outputs": [
    {
     "data": {
      "text/html": [
       "<div>\n",
       "<style scoped>\n",
       "    .dataframe tbody tr th:only-of-type {\n",
       "        vertical-align: middle;\n",
       "    }\n",
       "\n",
       "    .dataframe tbody tr th {\n",
       "        vertical-align: top;\n",
       "    }\n",
       "\n",
       "    .dataframe thead th {\n",
       "        text-align: right;\n",
       "    }\n",
       "</style>\n",
       "<table border=\"1\" class=\"dataframe\">\n",
       "  <thead>\n",
       "    <tr style=\"text-align: right;\">\n",
       "      <th></th>\n",
       "      <th>saleId</th>\n",
       "      <th>netSales</th>\n",
       "      <th>salesUnits</th>\n",
       "      <th>storeId</th>\n",
       "      <th>dateId</th>\n",
       "      <th>productId</th>\n",
       "    </tr>\n",
       "  </thead>\n",
       "  <tbody>\n",
       "    <tr>\n",
       "      <th>0</th>\n",
       "      <td>1</td>\n",
       "      <td>300.24</td>\n",
       "      <td>5</td>\n",
       "      <td>409</td>\n",
       "      <td>4965</td>\n",
       "      <td>567228914507</td>\n",
       "    </tr>\n",
       "    <tr>\n",
       "      <th>1</th>\n",
       "      <td>2</td>\n",
       "      <td>300.24</td>\n",
       "      <td>5</td>\n",
       "      <td>409</td>\n",
       "      <td>4965</td>\n",
       "      <td>567228914507</td>\n",
       "    </tr>\n",
       "  </tbody>\n",
       "</table>\n",
       "</div>"
      ],
      "text/plain": [
       "   saleId  netSales  salesUnits  storeId  dateId     productId\n",
       "0       1    300.24           5      409    4965  567228914507\n",
       "1       2    300.24           5      409    4965  567228914507"
      ]
     },
     "execution_count": 65,
     "metadata": {},
     "output_type": "execute_result"
    }
   ],
   "source": [
    "sales_df.head(2)"
   ]
  },
  {
   "cell_type": "code",
   "execution_count": 66,
   "id": "3b2fa1e5",
   "metadata": {},
   "outputs": [
    {
     "data": {
      "text/html": [
       "<div>\n",
       "<style scoped>\n",
       "    .dataframe tbody tr th:only-of-type {\n",
       "        vertical-align: middle;\n",
       "    }\n",
       "\n",
       "    .dataframe tbody tr th {\n",
       "        vertical-align: top;\n",
       "    }\n",
       "\n",
       "    .dataframe thead th {\n",
       "        text-align: right;\n",
       "    }\n",
       "</style>\n",
       "<table border=\"1\" class=\"dataframe\">\n",
       "  <thead>\n",
       "    <tr style=\"text-align: right;\">\n",
       "      <th></th>\n",
       "      <th>datekey</th>\n",
       "      <th>datecalendarday</th>\n",
       "      <th>datecalendaryear</th>\n",
       "      <th>weeknumberofseason</th>\n",
       "    </tr>\n",
       "  </thead>\n",
       "  <tbody>\n",
       "    <tr>\n",
       "      <th>0</th>\n",
       "      <td>4965</td>\n",
       "      <td>1</td>\n",
       "      <td>2018</td>\n",
       "      <td>2</td>\n",
       "    </tr>\n",
       "    <tr>\n",
       "      <th>1</th>\n",
       "      <td>4966</td>\n",
       "      <td>2</td>\n",
       "      <td>2018</td>\n",
       "      <td>2</td>\n",
       "    </tr>\n",
       "  </tbody>\n",
       "</table>\n",
       "</div>"
      ],
      "text/plain": [
       "   datekey  datecalendarday  datecalendaryear  weeknumberofseason\n",
       "0     4965                1              2018                   2\n",
       "1     4966                2              2018                   2"
      ]
     },
     "execution_count": 66,
     "metadata": {},
     "output_type": "execute_result"
    }
   ],
   "source": [
    "calendar_df.head(2)"
   ]
  },
  {
   "cell_type": "markdown",
   "id": "80f114fb",
   "metadata": {},
   "source": [
    "## Convert to Spark Dataframe"
   ]
  },
  {
   "cell_type": "code",
   "execution_count": 67,
   "id": "2134295d",
   "metadata": {},
   "outputs": [],
   "source": [
    "calendar_sdf = spark.createDataFrame(calendar_df)"
   ]
  },
  {
   "cell_type": "code",
   "execution_count": 68,
   "id": "ae7cd3d0",
   "metadata": {},
   "outputs": [],
   "source": [
    "product_sdf = spark.createDataFrame(product_df)"
   ]
  },
  {
   "cell_type": "code",
   "execution_count": 69,
   "id": "31fd2ee0",
   "metadata": {},
   "outputs": [],
   "source": [
    "store_sdf = spark.createDataFrame(store_df)"
   ]
  },
  {
   "cell_type": "code",
   "execution_count": 70,
   "id": "a574d2bd",
   "metadata": {},
   "outputs": [],
   "source": [
    "sales_sdf = spark.createDataFrame(sales_df)"
   ]
  },
  {
   "cell_type": "code",
   "execution_count": 71,
   "id": "cf398b8b",
   "metadata": {},
   "outputs": [],
   "source": [
    "product_sdf.createOrReplaceTempView(\"view_product\")\n",
    "store_sdf.createOrReplaceTempView(\"view_store\")\n",
    "calendar_sdf.createOrReplaceTempView(\"view_date\")\n",
    "sales_sdf.createOrReplaceTempView(\"view_sales\")"
   ]
  },
  {
   "cell_type": "code",
   "execution_count": 72,
   "id": "55b251cb",
   "metadata": {},
   "outputs": [],
   "source": [
    "finalsql = \"\"\"Select concat(CAST(dd.datecalendaryear as varchar(20)),'_', \n",
    "            CAST(ds.channel as varchar(20)), '_', CAST(dp.division as varchar(20)), '_', CAST(dp.gender as varchar(20))\n",
    "            , '_', CAST(dp.category as varchar(20))) as uniquekey, fs.dateid, fs.storeid, fs.productid, fs.saleid, fs.netsales, fs.salesunits ,\n",
    "                dd.datecalendaryear, dd.weeknumberofseason,\n",
    "                ds.channel, ds.country,\n",
    "                dp.division, dp.gender, dp.category\n",
    "                from view_sales fs \n",
    "                JOIN view_date dd on dd.datekey = fs.dateid\n",
    "                JOIN view_store ds on ds.storeid = fs.storeid\n",
    "                JOIN view_product dp on dp.productid = fs.productid\"\"\""
   ]
  },
  {
   "cell_type": "code",
   "execution_count": 73,
   "id": "05823365",
   "metadata": {},
   "outputs": [],
   "source": [
    "salesDF = spark.sql(finalsql)"
   ]
  },
  {
   "cell_type": "code",
   "execution_count": 74,
   "id": "5fc20657",
   "metadata": {},
   "outputs": [],
   "source": [
    "salesDF.createOrReplaceTempView(\"view_salesfinal\")"
   ]
  },
  {
   "cell_type": "code",
   "execution_count": 75,
   "id": "c73f5e04",
   "metadata": {},
   "outputs": [],
   "source": [
    "aggregate = \"\"\"Select uniquekey, channel, country, division, category, datecalendaryear, weeknumberofseason,\n",
    "               SUM(netsales) netsales, SUM(salesunits) salesunits\n",
    "               FROM view_salesfinal\n",
    "               GROUP BY uniquekey, channel, country, division, category, datecalendaryear, weeknumberofseason\"\"\"\n"
   ]
  },
  {
   "cell_type": "code",
   "execution_count": 76,
   "id": "bcd96313",
   "metadata": {},
   "outputs": [],
   "source": [
    "final_df = salesDF = spark.sql(aggregate)"
   ]
  },
  {
   "cell_type": "code",
   "execution_count": 77,
   "id": "0adf1ed7",
   "metadata": {},
   "outputs": [
    {
     "name": "stdout",
     "output_type": "stream",
     "text": [
      "+--------------------+-------+------------+--------+-----------+----------------+------------------+--------+----------+\n",
      "|           uniquekey|channel|     country|division|   category|datecalendaryear|weeknumberofseason|netsales|salesunits|\n",
      "+--------------------+-------+------------+--------+-----------+----------------+------------------+--------+----------+\n",
      "|2018_Digital_APPA...|Digital|LUXEMBOURG  | APPAREL|    CRICKET|            2018|                 2|  1501.2|        28|\n",
      "|2018_Digital_FOOT...|Digital|       INDIA|FOOTWEAR|COLLECTIONS|            2018|                 2| 2266.68|        37|\n",
      "|2018_Digital_APPA...|Digital|LUXEMBOURG  | APPAREL|COLLECTIONS|            2018|                 2| 1150.48|        13|\n",
      "+--------------------+-------+------------+--------+-----------+----------------+------------------+--------+----------+\n",
      "only showing top 3 rows\n",
      "\n"
     ]
    }
   ],
   "source": [
    "final_df.show(3)"
   ]
  },
  {
   "cell_type": "code",
   "execution_count": 78,
   "id": "269369cd",
   "metadata": {},
   "outputs": [],
   "source": [
    "final_pdf = final_df.toPandas()"
   ]
  },
  {
   "cell_type": "code",
   "execution_count": 80,
   "id": "3ab3702d",
   "metadata": {},
   "outputs": [
    {
     "name": "stdout",
     "output_type": "stream",
     "text": [
      "Writing 8 records to S3 File: gluedemo/reportsales/final.parquet\n",
      "came inside of  parquet format\n"
     ]
    }
   ],
   "source": [
    "write_dataframe_to_s3(s3_resource, final_pdf, s3_bucket, 'gluedemo/reportsales/final.parquet', 'parquet')"
   ]
  },
  {
   "cell_type": "code",
   "execution_count": null,
   "id": "c9d1b5cc",
   "metadata": {},
   "outputs": [],
   "source": []
  }
 ],
 "metadata": {
  "kernelspec": {
   "display_name": "Python 3",
   "language": "python",
   "name": "python3"
  },
  "language_info": {
   "codemirror_mode": {
    "name": "ipython",
    "version": 3
   },
   "file_extension": ".py",
   "mimetype": "text/x-python",
   "name": "python",
   "nbconvert_exporter": "python",
   "pygments_lexer": "ipython3",
   "version": "3.8.10"
  }
 },
 "nbformat": 4,
 "nbformat_minor": 5
}